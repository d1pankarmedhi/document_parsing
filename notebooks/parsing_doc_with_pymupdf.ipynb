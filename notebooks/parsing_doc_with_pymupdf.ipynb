{
 "cells": [
  {
   "cell_type": "markdown",
   "metadata": {},
   "source": [
    "# PDF processing with PyMuPDF"
   ]
  },
  {
   "cell_type": "code",
   "execution_count": 7,
   "metadata": {},
   "outputs": [
    {
     "name": "stdout",
     "output_type": "stream",
     "text": [
      "Text sample:\n",
      " \n",
      "DISCLOSURE APPENDIX AT THE BACK OF THIS REPORT CONTAINS IMPORTANT DISCLOSURES, ANALYST \n",
      "CERTIFICATIONS, AND THE STATUS OF NON-US ANALYSTS.  US Disclosure: Credit Suisse does and seeks to do \n",
      "busines\n"
     ]
    }
   ],
   "source": [
    "import fitz \n",
    "import os \n",
    "\n",
    "# Open the PDF file\n",
    "documents_dir = os.path.join(os.getcwd(), \"documents\") \n",
    "pdf_file = fitz.open(os.path.join(documents_dir, \"document_1.pdf\"))\n",
    "\n",
    "text = \"\"\n",
    "# Iterate through each page\n",
    "for page_index in range(len(pdf_file)):\n",
    "\n",
    "    page = pdf_file[page_index]\n",
    "    text += page.get_text()\n",
    "print(f\"Text sample:\\n{text[:200]}\")"
   ]
  },
  {
   "cell_type": "code",
   "execution_count": 16,
   "metadata": {},
   "outputs": [
    {
     "name": "stdout",
     "output_type": "stream",
     "text": [
      "page: 0\n",
      "content:  \n",
      "DISCLOSURE APPENDIX AT THE BACK OF THIS REPORT CONTAINS IMPORTANT DISCLOSURES, ANALYST \n",
      "CERTIFICAT\n",
      "--------------\n",
      "page: 1\n",
      "content:  \n",
      "13 August 2014 \n",
      "Tesla Motors Inc. (TSLA) \n",
      "2 \n",
      "■ Valuation is not as strange as it seems. We initiat\n",
      "--------------\n",
      "page: 2\n",
      "content:  \n",
      "13 August 2014 \n",
      "Tesla Motors Inc. (TSLA) \n",
      "3 \n",
      "Market Weight : The analyst’s expectation for the sec\n",
      "--------------\n",
      "page: 3\n",
      "content:  \n",
      "13 August 2014 \n",
      "Tesla Motors Inc. (TSLA) \n",
      "4 \n",
      "The analyst(s) involved in the preparation of this re\n",
      "--------------\n",
      "page: 4\n",
      "content:  \n",
      "13 August 2014 \n",
      "Tesla Motors Inc. (TSLA) \n",
      "5 \n",
      "References in this report to Credit Suisse include al\n",
      "--------------\n"
     ]
    }
   ],
   "source": [
    "\n",
    "noise = [\"disclaimer\", \"disclosure\", \"appendix\", ]\n",
    "\n",
    "processed_text = []\n",
    "\n",
    "# Iterate through each page\n",
    "for page_index in range(len(pdf_file)):\n",
    "    page = pdf_file[page_index]\n",
    "    text = page.get_text()\n",
    "    lines = text.splitlines()\n",
    "    start_line = 0\n",
    "    end_line = 0\n",
    "\n",
    "    # Iterate through each line\n",
    "    for i, line in enumerate(lines):\n",
    "        for word in line.split():\n",
    "            # check for word in noise\n",
    "            if word.strip().lower() in noise:\n",
    "                start_line = i + 1\n",
    "            \n",
    "        if line.strip().lower() == \"\":\n",
    "            end_line = i + 1\n",
    "\n",
    "    if start_line is not None and end_line is not None:\n",
    "        lines = lines[:start_line] + lines[end_line:]\n",
    "        clean_text = \"\\n\".join(lines)\n",
    "        processed_text.append(\n",
    "            {\n",
    "                'page': page_index,\n",
    "                'cleaned_text': clean_text\n",
    "            }\n",
    "        )\n",
    "\n",
    "for page_content in processed_text:\n",
    "    print(f\"page: {page_content['page']}\")\n",
    "    print(f\"content: {page_content['cleaned_text'][:100]}\\n--------------\")"
   ]
  },
  {
   "cell_type": "code",
   "execution_count": null,
   "metadata": {},
   "outputs": [],
   "source": []
  }
 ],
 "metadata": {
  "kernelspec": {
   "display_name": ".venv",
   "language": "python",
   "name": "python3"
  },
  "language_info": {
   "codemirror_mode": {
    "name": "ipython",
    "version": 3
   },
   "file_extension": ".py",
   "mimetype": "text/x-python",
   "name": "python",
   "nbconvert_exporter": "python",
   "pygments_lexer": "ipython3",
   "version": "3.10.14"
  }
 },
 "nbformat": 4,
 "nbformat_minor": 2
}

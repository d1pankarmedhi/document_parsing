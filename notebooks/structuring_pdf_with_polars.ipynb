{
 "cells": [
  {
   "cell_type": "markdown",
   "metadata": {},
   "source": [
    "# Structuring PDF content with Polars"
   ]
  },
  {
   "cell_type": "code",
   "execution_count": 1,
   "metadata": {},
   "outputs": [],
   "source": [
    "import fitz \n",
    "import os \n",
    "from collections import defaultdict"
   ]
  },
  {
   "cell_type": "code",
   "execution_count": 2,
   "metadata": {},
   "outputs": [],
   "source": [
    "# extract pdf content\n",
    "def get_pdf_content(pdf_path):\n",
    "    pdf = fitz.open(pdf_path)\n",
    "    content = defaultdict(list)\n",
    "    \n",
    "    for page in pdf:\n",
    "        blocks = page.get_text().split(\"\\n \\n\")\n",
    "\n",
    "        for b_num, block in enumerate(blocks):\n",
    "            \n",
    "            for i, sentence in enumerate(block.split(\"\\n\")):\n",
    "                # print(sentence)\n",
    "                if sentence.strip():\n",
    "                    content[\"sentence\"].append(sentence)\n",
    "                    content[\"line_num\"].append(i + 1)\n",
    "                    content['block'].append(b_num + 1) # b_num\n",
    "                    content['page'].append(page.number + 1)\n",
    "\n",
    "    return content\n",
    "\n",
    "\n",
    "documents_dir = os.path.join(os.getcwd(), \"documents\") \n",
    "content = get_pdf_content(os.path.join(documents_dir, \"document_1.pdf\"))"
   ]
  },
  {
   "cell_type": "code",
   "execution_count": 4,
   "metadata": {},
   "outputs": [
    {
     "data": {
      "text/plain": [
       "dict_items([('sentence', ['DISCLOSURE APPENDIX AT THE BACK OF THIS REPORT CONTAINS IMPORTANT DISCLOSURES, ANALYST ', 'CERTIFICATIONS, AND THE STATUS OF NON-US ANALYSTS.  US Disclosure: Credit Suisse does and seeks to do ', 'business with companies covered in its research reports. As a result, investors should be aware that the Firm may have a ', 'conflict of interest that could affect the objectivity of this report. Investors should consider this report as only a single factor in ', 'making their investment decision.  ', 'CREDIT SUISSE SECURITIES RESEARCH & ANALYTICS ', 'BEYOND INFORMATION® ', 'Client-Driven Solutions, Insights, and Access ', '13 August 2014 ', 'Americas/United States ', 'Equity Research ', 'Auto Parts & Equipment / Automobile Manufacturers  ', 'Tesla Motors Inc. (TSLA) ', ' INITIATION  ', ' Not A Fair Fight ', 'We are initiating coverage of Tesla Motors (TSLA) with an Outperform rating ', 'and a $325 target price.  For a complete copy of our initiation report, please ', 'click here. ', 'To download a copy of our broader Autos & Auto Parts sector initiation report, ', 'please click here ', '■ EV’s are inherently better than Internal Combustion (ICE) vehicles. We ', 'believe that there are many inherent advantages to Electric Vehicles, and ', 'the success of the Model S (Tesla’s first fully-developed vehicle) goes a long ', 'way to proving that. The company has many competitive advantages in this ', 'technology that will be difficult for the traditional automakers to close, ', 'particularly as the industry’s focus must remain on hitting very challenging ', 'fuel economy regulations. If Tesla can get to cost-parity with ICE and still ', 'offer  $1,400-$2,500 per year fuel savings to the consumer, it won’t be a fair ', 'fight. ', '■ Gigafactory will be a major step towards cost-parity. This report contains ', 'a detailed analysis of how Tesla’s battery costs are likely to change over ', 'time. We believe Model S / X base battery costs can come down to $10k-', '$11k range (from $16.5k today) and the upcoming Model 3 battery could be ', 'in the $7,500 range.  At that point, Tesla is in range of cost parity to ICE. ', '■ Returns look outstanding. An analysis of Model S / X development costs ', 'and the Gigafactory investment points to ROIC’s in the 30%-45% range. ', 'Continued on next page ', ' Share price performance ', '120', '170', '220', 'Aug-13', 'Nov-13', 'Feb-14', 'May-14', 'Daily Aug 13, 2013 - Aug 12, 2014, 8/13/13 = US$145.43', 'Price', 'Indexed S&P 500 INDEX', 'On 08/12/14 the S&P 500 INDEX closed at 1933.75 ', 'Quarterly EPS ', 'Q1 ', 'Q2 ', 'Q3 ', 'Q4 ', '2013A ', '0.12 ', '0.20 ', '0.12 ', '0.33 ', '2014E ', '0.12 ', '0.11 ', '0.03 ', '0.69 ', '2015E ', '0.13 ', '-0.03 ', '0.84 ', '1.64 ', 'Financial and valuation metrics ', 'Year ', '12/13A ', '12/14E ', '12/15E ', '12/16E ', 'EPS (CS adj.) (US$) ', '0.78 ', '0.96 ', '2.60 ', '7.00 ', 'Prev. EPS (US$) ', '— ', '— ', '— ', '— ', 'P/E (x) ', '332.8 ', '270.3 ', '100.1 ', '37.2 ', 'P/E rel. (%) ', 'NM ', 'NM ', '664.6 ', '274.0 ', 'Revenue (US$ m) ', '2,477.7 ', '3,767.9 ', '6,720.4 ', '10,250.9 ', 'EBITDA (US$ m) ', '206.3 ', '392.5 ', '950.2 ', '1,891.4 ', 'OCFPS (US$) ', '1.95 ', '3.02 ', '6.05 ', '11.22 ', 'P/OCF (x) ', '77.2 ', '86.0 ', '43.0 ', '23.2 ', 'EV/EBITDA (current) ', '155.6 ', '81.8 ', '33.8 ', '17.0 ', 'Net debt (US$ m) ', '-247 ', '-46 ', '587 ', '790 ', 'ROIC (%) ', '23.14 ', '14.19 ', '18.98 ', '32.04 ', 'Number of shares (m) ', '124.63 ', ' IC (current, US$ m) ', '420.38 ', 'BV/share (Next Qtr., US$) ', '7.2 ', ' EV/IC (x) ', '41.2 ', 'Net debt (Next Qtr., US$ m) ', '-258.6 ', ' Dividend (current, US$) ', '— ', 'Net debt/tot eq (Next Qtr., %) ', '-24.9 ', ' Dividend yield (%) ', '— ', 'Source: Company data, Credit Suisse estimates. ', 'Rating ', 'OUTPERFORM* [V] ', 'Price (12 Aug 14, US$) ', '259.96 ', 'Target price (US$) ', '324.93¹ ', '52-week price range ', '259.96 - 120.50 ', 'Market cap. (US$ m) ', '32,398.77 ', 'Enterprise value (US$ m) ', '32,352.65 ', '*Stock ratings are relative to the coverage universe in each ', \"analyst's or each team's respective sector. \", '¹Target price is for 12 months. ', '[V] = Stock considered volatile (see Disclosure Appendix). ', 'Research Analysts ', 'Daniel Galves ', '212 325 9274 ', 'daniel.v.galves@credit-suisse.com ', 'Shreyas Patil ', '212 538 5281 ', 'shreyas.patil@credit-suisse.com ', '13 August 2014 ', 'Tesla Motors Inc. (TSLA) ', '2 ', '■ Valuation is not as strange as it seems. We initiate with Outperform and a $325 ', 'price target that implies a 20x multiple on late-decade EPS estimate of ~$25, ', 'discounted back 3 years (volume under this scenario implies 0.5% of global auto ', 'market).  As success of Model X and Model 3 become more clear, investors will begin ', 'to ascribe potential for Tesla to go into the true mainstream market which would ', 'increase addressable market by 3x-4x.  Ability to capture dealer margin and to charge ', 'a significant premium to ICE vehicles (due to the fuel savings) supports margins ', 'significantly above traditional automakers. ', 'Companies Mentioned (Price as of 12-Aug-2014) ', 'BMW (BMWG.DE, €87.2) ', 'Daimler (DAIGn.DE, €59.85) ', 'Ford Motor Company (F.N, $17.21) ', 'General Motors Corp. (GM.N, $33.7) ', 'Tesla Motors Inc. (TSLA.OQ, $259.96, OUTPERFORM[V], TP $324.93) ', 'Toyota Motor (7203.T, ¥5,990) ', 'Volkswagen (VOWG_p.DE, €167.7)', 'Disclosure Appendix ', 'Important Global Disclosures  ', 'I, Daniel Galves, certify that (1) the views expressed in this report accurately reflect my personal views about all of the subject companies and ', 'securities and (2) no part of my compensation was, is or will be directly or indirectly related to the specific recommendations or views expressed in ', 'this report. ', \"The analyst(s) responsible for preparing this research report received Compensation that is based upon various factors including Credit Suisse's \", \"total revenues, a portion of which are generated by Credit Suisse's investment banking activities \", 'As of December 10, 2012 Analysts’ stock rating are defined as follows: ', 'Outperform (O) : The stock’s total return is expected to outperform the relevant benchmark*over the next 12 months. ', 'Neutral (N) : The stock’s total return is expected to be in line with the relevant benchmark* over the next 12 months. ', 'Underperform (U) : The stock’s total return is expected to underperform the relevant benchmark* over the next 12 months. ', \" *Relevant benchmark by region: As of 10th December 2012, Japanese ratings are based on a stock’s total return relative to the analyst's coverage universe which \", 'consists of all companies covered by the analyst within the relevant sector, with Outperforms representing the most attractive, Neutrals the less attractive, and ', 'Underperforms the least attractive investment opportunities. As of 2nd October 2012, U.S. and Canadian as well as European ra tings are based on a stock’s total ', \"return relative to the analyst's coverage universe which consists of all companies covered by the analyst within the relevant sector, with Outperforms representing the \", 'most attractive, Neutrals the less attractive, and Underperforms the least attractive investment opportunities. For Latin American and non-Japan Asia stocks, ratings ', 'are based on a stock’s total return relative to the average total return of the relevant country or regional benchmark; prior  to 2nd October 2012 U.S. and Canadian ', 'ratings were based on (1) a stock’s absolute total return potential to its current share price and (2) the relative attractiveness of a stock’s total return potential within ', 'an analyst’s coverage universe. For Australian and New Zealand stocks, 12-month rolling yield is incorporated in the absolute total return calculation and a 15% and ', 'a 7.5% threshold replace the 10-15% level in the Outperform and Underperform stock rating definitions, respectively. The 15% and 7.5% thresholds replace the +10-', '15% and -10-15% levels in the Neutral stock rating definition, respectively. Prior to 10th December 2012, Japanese ratings were based on a stock’s total return ', 'relative to the average total return of the relevant country or regional benchmark. ', 'Restricted (R) : In certain circumstances, Credit Suisse policy and/or applicable law and regulations preclude certain types of communications, ', \"including an investment recommendation, during the course of Credit Suisse's engagement in an investment banking transaction and in certain other \", 'circumstances. ', 'Volatility Indicator [V] : A stock is defined as volatile if the stock price has moved up or down by 20% or more in a month in at least 8 of the past 24 ', 'months or the analyst expects significant volatility going forward. ', 'Analysts’ sector weightings are distinct from analysts’ stock ratings and are based on the analyst’s expectations for the fundamentals and/or ', 'valuation of the sector* relative to the group’s historic fundamentals and/or valuation: ', 'Overweight : The analyst’s expectation for the sector’s fundamentals and/or valuation is favorable over the next 12 months. ', '13 August 2014 ', 'Tesla Motors Inc. (TSLA) ', '3 ', 'Market Weight : The analyst’s expectation for the sector’s fundamentals and/or valuation is neutral over the next 12 months. ', 'Underweight : The analyst’s expectation for the sector’s fundamentals and/or valuation is cautious over the next 12 months. ', ' *An analyst’s coverage sector consists of all companies covered by the analyst within the relevant sector. An analyst may cov er multiple sectors. ', \"Credit Suisse's distribution of stock ratings (and banking clients) is: \", 'Global Ratings Distribution ', 'Rating ', 'Versus universe (%) ', 'Of which banking clients (%) ', 'Outperform/Buy* ', '44% ', '(53% banking clients) ', 'Neutral/Hold* ', '40% ', '(51% banking clients) ', 'Underperform/Sell* ', '13% ', '(45% banking clients) ', 'Restricted ', '3% ', '*For purposes of the NYSE and NASD ratings distribution disclosure requirements, our stock ratings of Outperform, Neutral, and Underperform most closely ', 'correspond to Buy, Hold, and Sell, respectively; however, the meanings are not the same, as our stock ratings are determined on a relative basis. (Please refer to ', \"definitions above.) An investor's decision to buy or sell a security should be based on investment objectives, current holdin gs, and other individual factors. \", 'Credit Suisse’s policy is to update research reports as it deems appropriate, based on developments with the subject company, the sector or the ', 'market that may have a material impact on the research views or opinions stated herein.  ', \"Credit Suisse's policy is only to publish investment research that is impartial, independent, clear, fair and not misleading. For more detail please refer \", \"to Credit Suisse's Policies for Managing Conflicts of Interest in connection with Investment Research: http://www.csfb.com/research and \", 'analytics/disclaimer/managing_conflicts_disclaimer.html ', 'Credit Suisse does not provide any tax advice. Any statement herein regarding any US federal tax is not intended or written to be used, and cannot ', 'be used, by any taxpayer for the purposes of avoiding any penalties. ', 'Price Target: (12 months) for Tesla Motors Inc. (TSLA.OQ) ', 'Method:  Our $325 target price for Tesla is based on 20x our late-decade estimate of $25 EPS, discounted back 3 years at 15%.  Our late-decade ', 'volume estimate represents 0.5% of global market share; therefore, we still expect investors would assume substantial long-term growth ', 'potential, thus a 20x multiple is reasonable. ', 'Risk:  ', 'Risks to our $325 target price are: 1.) Battery Durability 2.) Vehicle Quality / Warranty Risk 3.) Currency 4.) Key Man Risk 5.) Residual ', 'Values ', \"Please refer to the firm's disclosure website at https://rave.credit-suisse.com/disclosures for the definitions of abbreviations typically used in the \", 'target price method and risk sections.  ', 'See the Companies Mentioned section for full company names  ', 'The subject company (VOWG_p.DE, BMWG.DE, DAIGn.DE, 7203.T, F.N, GM.N) currently is, or was during the 12-month period preceding the date ', 'of distribution of this report, a client of Credit Suisse. ', 'Credit Suisse provided investment banking services to the subject company (VOWG_p.DE, BMWG.DE, F.N) within the past 12 months. ', 'Credit Suisse provided non-investment banking services to the subject company (VOWG_p.DE, BMWG.DE, DAIGn.DE, 7203.T, F.N, GM.N) within ', 'the past 12 months ', 'Credit Suisse has managed or co-managed a public offering of securities for the subject company (VOWG_p.DE, BMWG.DE, F.N) within the past 12 ', 'months. ', 'Credit Suisse has received investment banking related compensation from the subject company (VOWG_p.DE, BMWG.DE, F.N) within the past 12 ', 'months ', 'Credit Suisse expects to receive or intends to seek investment banking related compensation from the subject company (TSLA.OQ, VOWG_p.DE, ', 'BMWG.DE, 7203.T, F.N) within the next 3 months. ', 'Credit Suisse has received compensation for products and services other than investment banking services from the subject company (VOWG_p.DE, ', 'BMWG.DE, DAIGn.DE, 7203.T, F.N, GM.N) within the past 12 months ', 'As of the date of this report, Credit Suisse makes a market in the following subject companies (TSLA.OQ, 7203.T, F.N, GM.N). ', 'For other important disclosures concerning companies featured in this report, including price charts, please visit the website at https://rave.credit-', 'suisse.com/disclosures or call +1 (877) 291-2683.  ', 'Important Regional Disclosures  ', 'Singapore recipients should contact Credit Suisse AG, Singapore Branch for any matters arising from this research report. ', '13 August 2014 ', 'Tesla Motors Inc. (TSLA) ', '4 ', 'The analyst(s) involved in the preparation of this report have not visited the material operations of the subject company (TSLA.OQ, VOWG_p.DE, ', 'BMWG.DE, DAIGn.DE, 7203.T, F.N, GM.N) within the past 12 months ', 'Restrictions on certain Canadian securities are indicated by the following abbreviations: NVS--Non-Voting shares; RVS--Restricted Voting Shares; ', 'SVS--Subordinate Voting Shares. ', 'Individuals receiving this report from a Canadian investment dealer that is not affiliated with Credit Suisse should be advised that this report may not ', 'contain regulatory disclosures the non-affiliated Canadian investment dealer would be required to make if this were its own report. ', \"For Credit Suisse Securities (Canada), Inc.'s policies and procedures regarding the dissemination of equity research, please visit \", 'http://www.csfb.com/legal_terms/canada_research_policy.shtml. ', 'The following disclosed European company/ies have estimates that comply with IFRS: (VOWG_p.DE, BMWG.DE, DAIGn.DE, F.N). ', 'Credit Suisse has acted as lead manager or syndicate member in a public offering of securities for the subject company (VOWG_p.DE, BMWG.DE, ', '7203.T, F.N) within the past 3 years. ', 'As of the date of this report, Credit Suisse acts as a market maker or liquidity provider in the equities securities that are the subject of this report. ', 'Principal is not guaranteed in the case of equities because equity prices are variable. ', 'Commission is the commission rate or the amount agreed with a customer when setting up an account or at any time after that. ', 'For Credit Suisse disclosure information on other companies mentioned in this report, please visit the website at https://rave.credit-', 'suisse.com/disclosures or call +1 (877) 291-2683.  ', '13 August 2014 ', 'Tesla Motors Inc. (TSLA) ', '5 ', 'References in this report to Credit Suisse include all of the subsidiaries and affiliates of Credit Suisse operating under its investment banking division. For more information on our structure, please use the ', 'following link: https://www.credit-suisse.com/who_we_are/en/This report may contain material that is not directed to, or intended for distribution to or use by, any person or entity who is a citizen or resident of ', 'or located in any locality, state, country or other jurisdiction where such distribution, publication, availability or use would be contrary to law or regulation or which would subject Credit Suisse AG or its affiliates ', '(\"CS\") to any registration or licensing requirement within such jurisdiction. All material presented in this report, unless specifically indicated otherwise, is under copyright to CS. None of the material, nor its ', 'content, nor any copy of it, may be altered in any way, transmitted to, copied or distributed to any other party, without the prior express written permission of CS. All trademarks, service marks and logos used ', 'in this report are trademarks or service marks or registered trademarks or service marks of CS or its affiliates. The information, tools and material presented in this report are provided to you for information ', 'purposes only and are not to be used or considered as an offer or the solicitation of an offer to sell or to buy or subscribe for securities or other financial instruments. CS may not have taken any steps to ', 'ensure that the securities referred to in this report are suitable for any particular investor. CS will not treat recipients of this report as its customers by virtue of their receiving this report. The investments and ', 'services contained or referred to in this report may not be suitable for you and it is recommended that you consult an independent investment advisor if you are in doubt about such investments or investment ', 'services. Nothing in this report constitutes investment, legal, accounting or tax advice, or a representation that any investment or strategy is suitable or appropriate to your individual circumstances, or ', 'otherwise constitutes a personal recommendation to you. CS does not advise on the tax consequences of investments and you are advised to contact an independent tax adviser. Please note in particular ', 'that the bases and levels of taxation may change. Information and opinions presented in this report have been obtained or derived from sources believed by CS to be reliable, but CS makes no representation ', 'as to their accuracy or completeness. CS accepts no liability for loss arising from the use of the material presented in this report, except that this exclusion of liability does not apply to the extent that such ', 'liability arises under specific statutes or regulations applicable to CS. This report is not to be relied upon in substitution for the exercise of independent judgment. CS may have issued, and may in the future ', 'issue, other communications that are inconsistent with, and reach different conclusions from, the information presented in this report. Those communications reflect the different assumptions, views and ', 'analytical methods of the analysts who prepared them and CS is under no obligation to ensure that such other communications are brought to the attention of any recipient of this report. Some investments ', 'referred to in this report will be offered solely by a single entity and in the case of some investments solely by CS, or an associate of CS or CS may be the only market maker in such investments. Past ', 'performance should not be taken as an indication or guarantee of future performance, and no representation or warranty, express or implied, is made regarding future performance. Information, opinions and ', 'estimates contained in this report reflect a judgment at its original date of publication by CS and are subject to change without notice. The price, value of and income from any of the securities or financial ', 'instruments mentioned in this report can fall as well as rise. The value of securities and financial instruments is subject to exchange rate fluctuation that may have a positive or adverse effect on the price or ', \"income of such securities or financial instruments. Investors in securities such as ADR's, the values of which are influenced by currency volatility, effectively assume this risk. Structured securities are complex \", 'instruments, typically involve a high degree of risk and are intended for sale only to sophisticated investors who are capable of understanding and assuming the risks involved. The market value of any ', 'structured security may be affected by changes in economic, financial and political factors (including, but not limited to, spot and forward interest and exchange rates), time to maturity, market conditions and ', 'volatility, and the credit quality of any issuer or reference issuer. Any investor interested in purchasing a structured product should conduct their own investigation and analysis of the product and consult with ', 'their own professional advisers as to the risks involved in making such a purchase. Some investments discussed in this report may have a high level of volatility. High volatility investments may experience ', 'sudden and large falls in their value causing losses when that investment is realised. Those losses may equal your original investment. Indeed, in the case of some investments the potential losses may ', 'exceed the amount of initial investment and, in such circumstances, you may be required to pay more money to support those losses. Income yields from investments may fluctuate and, in consequence, ', 'initial capital paid to make the investment may be used as part of that income yield. Some investments may not be readily realisable and it may be difficult to sell or realise those investments, similarly it may ', 'prove difficult for you to obtain reliable information about the value, or risks, to which such an investment is exposed. This report may provide the addresses of, or contain hyperlinks to, websites. Except to the ', 'extent to which the report refers to website material of CS, CS has not reviewed any such site and takes no responsibility for the content contained therein. Such address or hyperlink (including addresses or ', \"hyperlinks to CS's own website material) is provided solely for your convenience and information and the content of any such website does not in any way form part of this document. Accessing such website \", \"or following such link through this report or CS's website shall be at your own risk. This report is issued and distributed in Europe (except Switzerland) by Credit Suisse Securities (Europe) Limited, One Cabot \", 'Square, London E14 4QJ, England, which is authorised by the Prudential Regulation Authority and regulated by the Financial Conduct Authority and the Prudential Regulation Authority. This report is being ', 'distributed in Germany by Credit Suisse Securities (Europe) Limited Niederlassung Frankfurt am Main regulated by the Bundesanstalt fuer Finanzdienstleistungsaufsicht (\"BaFin\"). This report is being ', 'distributed in the United States and Canada by Credit Suisse Securities (USA) LLC; in Switzerland by Credit Suisse AG; in Brazil by Banco de Investimentos Credit Suisse (Brasil) S.A or its affiliates; in Mexico ', 'by Banco Credit Suisse (México), S.A. (transactions related to the securities mentioned in this report will only be effected in compliance with applicable regulation); in Japan by Credit Suisse Securities (Japan) ', 'Limited, Financial Instruments Firm, Director-General of Kanto Local Finance Bureau (Kinsho) No. 66, a member of Japan Securities Dealers Association, The Financial Futures Association of Japan, Japan ', 'Investment Advisers Association, Type II Financial Instruments Firms Association; elsewhere in Asia/ Pacific by whichever of the following is the appropriately authorised entity in the relevant jurisdiction: ', 'Credit Suisse (Hong Kong) Limited, Credit Suisse Equities (Australia) Limited, Credit Suisse Securities (Thailand) Limited, regulated by the Office of the Securities and Exchange Commission, Thailand, ', 'having registered address at 990 Abdulrahim Place, 27th Floor, Unit 2701, Rama IV Road, Silom, Bangrak, Bangkok 10500, Thailand, Tel. +66 2614 6000, Credit Suisse Securities (Malaysia) Sdn Bhd, ', 'Credit Suisse AG, Singapore Branch, Credit Suisse Securities (India) Private Limited (CIN no. U67120MH1996PTC104392) regulated by the Securities and Exchange Board of India (registration Nos. ', 'INB230970637; INF230970637; INB010970631; INF010970631), having registered address at 9th Floor, Ceejay House, Dr.A.B. Road, Worli, Mumbai - 18, India, T- +91-22 6777 3777, Credit Suisse ', 'Securities (Europe) Limited, Seoul Branch, Credit Suisse AG, Taipei Securities Branch, PT Credit Suisse Securities Indonesia, Credit Suisse Securities (Philippines ) Inc., and elsewhere in the world by the ', 'relevant authorised affiliate of the above. Research on Taiwanese securities produced by Credit Suisse AG, Taipei Securities Branch has been prepared by a registered Senior Business Person. Research ', 'provided to residents of Malaysia is authorised by the Head of Research for Credit Suisse Securities (Malaysia) Sdn Bhd, to whom they should direct any queries on +603 2723 2020. This report has been ', 'prepared and issued for distribution in Singapore to institutional investors, accredited investors and expert investors (each as defined under the Financial Advisers Regulations) only, and is also distributed by ', 'Credit Suisse AG, Singapore branch to overseas investors (as defined under the Financial Advisers Regulations). By virtue of your status as an institutional investor, accredited investor, expert investor or ', 'overseas investor, Credit Suisse AG, Singapore branch is exempted from complying with certain compliance requirements under the Financial Advisers Act, Chapter 110 of Singapore (the \"FAA\"), the ', 'Financial Advisers Regulations and the relevant Notices and Guidelines issued thereunder, in respect of any financial advisory service which Credit Suisse AG, Singapore branch may provide to you. This ', 'research may not conform to Canadian disclosure requirements. In jurisdictions where CS is not already registered or licensed to trade in securities, transactions will only be effected in accordance with ', 'applicable securities legislation, which will vary from jurisdiction to jurisdiction and may require that the trade be made in accordance with applicable exemptions from registration or licensing requirements. ', 'Non-U.S. customers wishing to effect a transaction should contact a CS entity in their local jurisdiction unless governing law permits otherwise. U.S. customers wishing to effect a transaction should do so only ', 'by contacting a representative at Credit Suisse Securities (USA) LLC in the U.S. Please note that this research was originally prepared and issued by CS for distribution to their market professional and ', 'institutional investor customers. Recipients who are not market professional or institutional investor customers of CS should seek the advice of their independent financial advisor prior to taking any investment ', 'decision based on this report or for any necessary explanation of its contents. This research may relate to investments or services of a person outside of the UK or to other matters which are not authorised by ', 'the Prudential Regulation Authority and regulated by the Financial Conduct Authority and the Prudential Regulation Authority or in respect of which the protections of the Prudential Regulation Authority and ', 'Financial Conduct Authority for private customers and/or the UK compensation scheme may not be available, and further details as to where this may be the case are available upon request in respect of this ', 'report. CS may provide various services to US municipal entities or obligated persons (\"municipalities\"), including suggesting individual transactions or trades and entering into such transactions. Any services ', 'CS provides to municipalities are not viewed as \"advice\" within the meaning of Section 975 of the Dodd-Frank Wall Street Reform and Consumer Protection Act. CS is providing any such services and related ', \"information solely on an arm's length basis and not as an advisor or fiduciary to the municipality. In connection with the provision of the any such services, there is no agreement, direct or indirect, between any \", 'municipality (including the officials, management, employees or agents thereof) and CS for CS to provide advice to the municipality. Municipalities should consult with their financial, accounting and legal ', 'advisors regarding any such services provided by CS. In addition, CS is not acting for direct or indirect compensation to solicit the municipality on behalf of an unaffiliated broker, dealer, municipal securities ', 'dealer, municipal advisor, or investment adviser for the purpose of obtaining or retaining an engagement by the municipality for or in connection with Municipal Financial Products, the issuance of municipal ', 'securities, or of an investment adviser to provide investment advisory services to or on behalf of the municipality. If this report is being distributed by a financial institution other than Credit Suisse AG, or its ', 'affiliates, that financial institution is solely responsible for distribution. Clients of that institution should contact that institution to effect a transaction in the securities mentioned in this report or require further ', 'information. This report does not constitute investment advice by Credit Suisse to the clients of the distributing financial institution, and neither Credit Suisse AG, its affiliates, and their respective officers, ', 'directors and employees accept any liability whatsoever for any direct or consequential loss arising from their use of this report or its content. Principal is not guaranteed. Commission is the commission rate or ', 'the amount agreed with a customer when setting up an account or at any time after that. ', 'Copyright © 2014 CREDIT SUISSE AG and/or its affiliates. All rights reserved.  ', 'Investment principal on bonds can be eroded depending on sale price or market price. In addition, there are bonds on which investment principal can ', 'be eroded due to changes in redemption amounts. Care is required when investing in such instruments.  ', 'When you purchase non-listed Japanese fixed income securities (Japanese government bonds, Japanese municipal bonds, Japanese government guaranteed bonds, Japanese corporate bonds) from CS ', 'as a seller, you will be requested to pay the purchase price only.  ', 'TSLA_initiation 8-13.doc ']), ('line_num', [2, 3, 4, 5, 6, 7, 8, 1, 1, 2, 3, 4, 2, 3, 5, 6, 7, 8, 9, 10, 11, 12, 13, 14, 15, 16, 17, 18, 19, 20, 21, 22, 23, 24, 25, 26, 27, 2, 3, 4, 5, 6, 7, 8, 9, 10, 11, 12, 1, 1, 2, 3, 4, 5, 6, 7, 8, 9, 10, 11, 12, 13, 14, 15, 16, 17, 18, 19, 20, 2, 1, 2, 3, 4, 5, 6, 7, 8, 9, 10, 11, 12, 13, 14, 15, 16, 17, 18, 19, 20, 21, 22, 23, 24, 25, 26, 27, 28, 29, 30, 31, 32, 33, 34, 35, 36, 37, 38, 39, 40, 41, 42, 43, 44, 45, 46, 47, 48, 49, 50, 51, 52, 53, 54, 55, 56, 57, 58, 59, 60, 62, 63, 64, 65, 66, 67, 68, 69, 70, 71, 72, 73, 74, 75, 76, 77, 1, 2, 3, 4, 5, 6, 7, 8, 9, 10, 11, 12, 13, 1, 2, 3, 4, 1, 2, 3, 4, 5, 6, 7, 2, 3, 4, 5, 6, 7, 8, 9, 10, 11, 12, 1, 2, 3, 4, 5, 6, 7, 8, 2, 3, 4, 5, 6, 7, 8, 9, 10, 11, 12, 13, 14, 15, 16, 17, 18, 19, 20, 21, 22, 23, 24, 25, 26, 27, 28, 29, 30, 31, 2, 3, 4, 5, 6, 7, 8, 9, 10, 11, 12, 13, 14, 15, 16, 17, 18, 19, 20, 21, 22, 23, 1, 2, 3, 4, 5, 6, 7, 8, 9, 10, 11, 12, 13, 14, 15, 16, 17, 18, 19, 20, 21, 22, 23, 24, 25, 26, 27, 28, 29, 30, 31, 32, 33, 34, 35, 36, 37, 38, 2, 3, 4, 5, 6, 7, 8, 9, 10, 11, 12, 13, 14, 15, 16, 17, 18, 19, 20, 2, 3, 4, 5, 6, 7, 8, 9, 10, 11, 12, 13, 14, 15, 16, 17, 18, 19, 20, 21, 22, 23, 24, 25, 26, 27, 28, 29, 30, 31, 32, 33, 34, 35, 36, 37, 38, 39, 40, 41, 42, 43, 44, 45, 46, 47, 48, 49, 50, 51, 52, 53, 54, 55, 56, 57, 58, 59, 60, 61, 62, 63, 64, 65, 66, 67, 68, 69, 70, 71, 72, 73, 74, 75, 76, 77, 78]), ('block', [1, 1, 1, 1, 1, 1, 1, 2, 3, 3, 3, 3, 4, 4, 4, 4, 4, 4, 4, 4, 4, 4, 4, 4, 4, 4, 4, 4, 4, 4, 4, 4, 4, 4, 4, 4, 4, 5, 5, 5, 5, 5, 5, 5, 5, 5, 5, 5, 6, 7, 7, 7, 7, 7, 7, 7, 7, 7, 7, 7, 7, 7, 7, 7, 7, 7, 7, 7, 7, 8, 9, 9, 9, 9, 9, 9, 9, 9, 9, 9, 9, 9, 9, 9, 9, 9, 9, 9, 9, 9, 9, 9, 9, 9, 9, 9, 9, 9, 9, 9, 9, 9, 9, 9, 9, 9, 9, 9, 9, 9, 9, 9, 9, 9, 9, 9, 9, 9, 9, 9, 9, 9, 9, 9, 9, 9, 9, 9, 9, 9, 9, 9, 9, 9, 9, 9, 9, 9, 9, 9, 9, 9, 9, 9, 9, 9, 11, 11, 11, 11, 11, 11, 11, 11, 11, 11, 11, 11, 11, 12, 12, 12, 12, 13, 13, 13, 13, 13, 13, 13, 1, 1, 1, 1, 1, 1, 1, 1, 1, 1, 1, 4, 4, 4, 4, 4, 4, 4, 4, 5, 5, 5, 5, 5, 5, 5, 5, 5, 5, 5, 5, 5, 5, 5, 5, 5, 5, 5, 5, 5, 5, 5, 5, 5, 5, 5, 5, 5, 5, 1, 1, 1, 1, 1, 1, 1, 1, 1, 1, 1, 1, 1, 1, 1, 1, 1, 1, 1, 1, 1, 1, 2, 2, 2, 2, 2, 2, 2, 2, 2, 2, 2, 2, 2, 2, 2, 2, 2, 2, 2, 2, 2, 2, 2, 2, 2, 2, 2, 2, 2, 2, 2, 2, 2, 2, 2, 2, 2, 2, 1, 1, 1, 1, 1, 1, 1, 1, 1, 1, 1, 1, 1, 1, 1, 1, 1, 1, 1, 1, 1, 1, 1, 1, 1, 1, 1, 1, 1, 1, 1, 1, 1, 1, 1, 1, 1, 1, 1, 1, 1, 1, 1, 1, 1, 1, 1, 1, 1, 1, 1, 1, 1, 1, 1, 1, 1, 1, 1, 1, 1, 1, 1, 1, 1, 1, 1, 1, 1, 1, 1, 1, 1, 1, 1, 1, 1, 1, 1, 1, 1, 1, 1, 1, 1, 1, 1, 1, 1, 1, 1, 1, 1, 1, 1, 1]), ('page', [1, 1, 1, 1, 1, 1, 1, 1, 1, 1, 1, 1, 1, 1, 1, 1, 1, 1, 1, 1, 1, 1, 1, 1, 1, 1, 1, 1, 1, 1, 1, 1, 1, 1, 1, 1, 1, 1, 1, 1, 1, 1, 1, 1, 1, 1, 1, 1, 1, 1, 1, 1, 1, 1, 1, 1, 1, 1, 1, 1, 1, 1, 1, 1, 1, 1, 1, 1, 1, 1, 1, 1, 1, 1, 1, 1, 1, 1, 1, 1, 1, 1, 1, 1, 1, 1, 1, 1, 1, 1, 1, 1, 1, 1, 1, 1, 1, 1, 1, 1, 1, 1, 1, 1, 1, 1, 1, 1, 1, 1, 1, 1, 1, 1, 1, 1, 1, 1, 1, 1, 1, 1, 1, 1, 1, 1, 1, 1, 1, 1, 1, 1, 1, 1, 1, 1, 1, 1, 1, 1, 1, 1, 1, 1, 1, 1, 1, 1, 1, 1, 1, 1, 1, 1, 1, 1, 1, 1, 1, 1, 1, 1, 1, 1, 1, 1, 1, 1, 1, 1, 2, 2, 2, 2, 2, 2, 2, 2, 2, 2, 2, 2, 2, 2, 2, 2, 2, 2, 2, 2, 2, 2, 2, 2, 2, 2, 2, 2, 2, 2, 2, 2, 2, 2, 2, 2, 2, 2, 2, 2, 2, 2, 2, 2, 2, 2, 2, 2, 2, 3, 3, 3, 3, 3, 3, 3, 3, 3, 3, 3, 3, 3, 3, 3, 3, 3, 3, 3, 3, 3, 3, 3, 3, 3, 3, 3, 3, 3, 3, 3, 3, 3, 3, 3, 3, 3, 3, 3, 3, 3, 3, 3, 3, 3, 3, 3, 3, 3, 3, 3, 3, 3, 3, 3, 3, 3, 3, 3, 3, 4, 4, 4, 4, 4, 4, 4, 4, 4, 4, 4, 4, 4, 4, 4, 4, 4, 4, 4, 5, 5, 5, 5, 5, 5, 5, 5, 5, 5, 5, 5, 5, 5, 5, 5, 5, 5, 5, 5, 5, 5, 5, 5, 5, 5, 5, 5, 5, 5, 5, 5, 5, 5, 5, 5, 5, 5, 5, 5, 5, 5, 5, 5, 5, 5, 5, 5, 5, 5, 5, 5, 5, 5, 5, 5, 5, 5, 5, 5, 5, 5, 5, 5, 5, 5, 5, 5, 5, 5, 5, 5, 5, 5, 5, 5, 5])])"
      ]
     },
     "execution_count": 4,
     "metadata": {},
     "output_type": "execute_result"
    }
   ],
   "source": [
    "content.items()"
   ]
  },
  {
   "cell_type": "code",
   "execution_count": 7,
   "metadata": {},
   "outputs": [
    {
     "data": {
      "text/html": [
       "<div><style>\n",
       ".dataframe > thead > tr,\n",
       ".dataframe > tbody > tr {\n",
       "  text-align: right;\n",
       "  white-space: pre-wrap;\n",
       "}\n",
       "</style>\n",
       "<small>shape: (5, 4)</small><table border=\"1\" class=\"dataframe\"><thead><tr><th>sentence</th><th>line_num</th><th>block</th><th>page</th></tr><tr><td>str</td><td>i64</td><td>i64</td><td>i64</td></tr></thead><tbody><tr><td>&quot;DISCLOSURE APPENDIX AT THE BAC…</td><td>2</td><td>1</td><td>1</td></tr><tr><td>&quot;CERTIFICATIONS, AND THE STATUS…</td><td>3</td><td>1</td><td>1</td></tr><tr><td>&quot;business with companies covere…</td><td>4</td><td>1</td><td>1</td></tr><tr><td>&quot;conflict of interest that coul…</td><td>5</td><td>1</td><td>1</td></tr><tr><td>&quot;making their investment decisi…</td><td>6</td><td>1</td><td>1</td></tr></tbody></table></div>"
      ],
      "text/plain": [
       "shape: (5, 4)\n",
       "┌─────────────────────────────────┬──────────┬───────┬──────┐\n",
       "│ sentence                        ┆ line_num ┆ block ┆ page │\n",
       "│ ---                             ┆ ---      ┆ ---   ┆ ---  │\n",
       "│ str                             ┆ i64      ┆ i64   ┆ i64  │\n",
       "╞═════════════════════════════════╪══════════╪═══════╪══════╡\n",
       "│ DISCLOSURE APPENDIX AT THE BAC… ┆ 2        ┆ 1     ┆ 1    │\n",
       "│ CERTIFICATIONS, AND THE STATUS… ┆ 3        ┆ 1     ┆ 1    │\n",
       "│ business with companies covere… ┆ 4        ┆ 1     ┆ 1    │\n",
       "│ conflict of interest that coul… ┆ 5        ┆ 1     ┆ 1    │\n",
       "│ making their investment decisi… ┆ 6        ┆ 1     ┆ 1    │\n",
       "└─────────────────────────────────┴──────────┴───────┴──────┘"
      ]
     },
     "execution_count": 7,
     "metadata": {},
     "output_type": "execute_result"
    }
   ],
   "source": [
    "## convert dict to polars dataframe\n",
    "import polars as pl \n",
    "df = pl.DataFrame(content)\n",
    "df.head()"
   ]
  },
  {
   "cell_type": "markdown",
   "metadata": {},
   "source": [
    "## Cleaning text with block removal"
   ]
  },
  {
   "cell_type": "code",
   "execution_count": 8,
   "metadata": {},
   "outputs": [
    {
     "data": {
      "text/html": [
       "<div><style>\n",
       ".dataframe > thead > tr,\n",
       ".dataframe > tbody > tr {\n",
       "  text-align: right;\n",
       "  white-space: pre-wrap;\n",
       "}\n",
       "</style>\n",
       "<small>shape: (155, 6)</small><table border=\"1\" class=\"dataframe\"><thead><tr><th>sentence</th><th>line_num</th><th>block</th><th>page</th><th>lower_sentence</th><th>has_disclaimer</th></tr><tr><td>str</td><td>i64</td><td>i64</td><td>i64</td><td>str</td><td>bool</td></tr></thead><tbody><tr><td>&quot;13 August 2014 &quot;</td><td>1</td><td>3</td><td>1</td><td>&quot;13 august 2014 &quot;</td><td>false</td></tr><tr><td>&quot;Americas/United States &quot;</td><td>2</td><td>3</td><td>1</td><td>&quot;americas/united states &quot;</td><td>false</td></tr><tr><td>&quot;Equity Research &quot;</td><td>3</td><td>3</td><td>1</td><td>&quot;equity research &quot;</td><td>false</td></tr><tr><td>&quot;Auto Parts &amp; Equipment / Autom…</td><td>4</td><td>3</td><td>1</td><td>&quot;auto parts &amp; equipment / autom…</td><td>false</td></tr><tr><td>&quot;Tesla Motors Inc. (TSLA) &quot;</td><td>2</td><td>4</td><td>1</td><td>&quot;tesla motors inc. (tsla) &quot;</td><td>false</td></tr><tr><td>&hellip;</td><td>&hellip;</td><td>&hellip;</td><td>&hellip;</td><td>&hellip;</td><td>&hellip;</td></tr><tr><td>&quot;Ford Motor Company (F.N, $17.2…</td><td>4</td><td>4</td><td>2</td><td>&quot;ford motor company (f.n, $17.2…</td><td>false</td></tr><tr><td>&quot;General Motors Corp. (GM.N, $3…</td><td>5</td><td>4</td><td>2</td><td>&quot;general motors corp. (gm.n, $3…</td><td>false</td></tr><tr><td>&quot;Tesla Motors Inc. (TSLA.OQ, $2…</td><td>6</td><td>4</td><td>2</td><td>&quot;tesla motors inc. (tsla.oq, $2…</td><td>false</td></tr><tr><td>&quot;Toyota Motor (7203.T, ¥5,990) &quot;</td><td>7</td><td>4</td><td>2</td><td>&quot;toyota motor (7203.t, ¥5,990) &quot;</td><td>false</td></tr><tr><td>&quot;Volkswagen (VOWG_p.DE, €167.7)&quot;</td><td>8</td><td>4</td><td>2</td><td>&quot;volkswagen (vowg_p.de, €167.7)&quot;</td><td>false</td></tr></tbody></table></div>"
      ],
      "text/plain": [
       "shape: (155, 6)\n",
       "┌───────────────────────────┬──────────┬───────┬──────┬───────────────────────────┬────────────────┐\n",
       "│ sentence                  ┆ line_num ┆ block ┆ page ┆ lower_sentence            ┆ has_disclaimer │\n",
       "│ ---                       ┆ ---      ┆ ---   ┆ ---  ┆ ---                       ┆ ---            │\n",
       "│ str                       ┆ i64      ┆ i64   ┆ i64  ┆ str                       ┆ bool           │\n",
       "╞═══════════════════════════╪══════════╪═══════╪══════╪═══════════════════════════╪════════════════╡\n",
       "│ 13 August 2014            ┆ 1        ┆ 3     ┆ 1    ┆ 13 august 2014            ┆ false          │\n",
       "│ Americas/United States    ┆ 2        ┆ 3     ┆ 1    ┆ americas/united states    ┆ false          │\n",
       "│ Equity Research           ┆ 3        ┆ 3     ┆ 1    ┆ equity research           ┆ false          │\n",
       "│ Auto Parts & Equipment /  ┆ 4        ┆ 3     ┆ 1    ┆ auto parts & equipment /  ┆ false          │\n",
       "│ Autom…                    ┆          ┆       ┆      ┆ autom…                    ┆                │\n",
       "│ Tesla Motors Inc. (TSLA)  ┆ 2        ┆ 4     ┆ 1    ┆ tesla motors inc. (tsla)  ┆ false          │\n",
       "│ …                         ┆ …        ┆ …     ┆ …    ┆ …                         ┆ …              │\n",
       "│ Ford Motor Company (F.N,  ┆ 4        ┆ 4     ┆ 2    ┆ ford motor company (f.n,  ┆ false          │\n",
       "│ $17.2…                    ┆          ┆       ┆      ┆ $17.2…                    ┆                │\n",
       "│ General Motors Corp.      ┆ 5        ┆ 4     ┆ 2    ┆ general motors corp.      ┆ false          │\n",
       "│ (GM.N, $3…                ┆          ┆       ┆      ┆ (gm.n, $3…                ┆                │\n",
       "│ Tesla Motors Inc.         ┆ 6        ┆ 4     ┆ 2    ┆ tesla motors inc.         ┆ false          │\n",
       "│ (TSLA.OQ, $2…             ┆          ┆       ┆      ┆ (tsla.oq, $2…             ┆                │\n",
       "│ Toyota Motor (7203.T,     ┆ 7        ┆ 4     ┆ 2    ┆ toyota motor (7203.t,     ┆ false          │\n",
       "│ ¥5,990)                   ┆          ┆       ┆      ┆ ¥5,990)                   ┆                │\n",
       "│ Volkswagen (VOWG_p.DE,    ┆ 8        ┆ 4     ┆ 2    ┆ volkswagen (vowg_p.de,    ┆ false          │\n",
       "│ €167.7)                   ┆          ┆       ┆      ┆ €167.7)                   ┆                │\n",
       "└───────────────────────────┴──────────┴───────┴──────┴───────────────────────────┴────────────────┘"
      ]
     },
     "execution_count": 8,
     "metadata": {},
     "output_type": "execute_result"
    }
   ],
   "source": [
    "## remove every block whose sentence has \"disclaimers\" or \"discloures\"\n",
    "noise = [\"disclosure\", \"disclaimer\", \"appendix\"]\n",
    "\n",
    "def remove_noise(df, noise):\n",
    "    df = df.with_columns(pl.col('sentence').str.to_lowercase().alias(\"lower_sentence\"))\n",
    "    df = df.with_columns(\n",
    "        pl.col(\"lower_sentence\").str.contains(\"| \".join(noise)).alias(\"has_disclaimer\")\n",
    "    )\n",
    "    df_blocks = df.filter(pl.col(\"has_disclaimer\"))\n",
    "    return df.filter(~pl.col(\"block\").is_in(df_blocks['block'].to_list()))\n",
    "\n",
    "remove_noise(df, noise)"
   ]
  },
  {
   "cell_type": "code",
   "execution_count": 9,
   "metadata": {},
   "outputs": [
    {
     "data": {
      "text/html": [
       "<div><style>\n",
       ".dataframe > thead > tr,\n",
       ".dataframe > tbody > tr {\n",
       "  text-align: right;\n",
       "  white-space: pre-wrap;\n",
       "}\n",
       "</style>\n",
       "<small>shape: (2, 3)</small><table border=\"1\" class=\"dataframe\"><thead><tr><th>page</th><th>sentence</th><th>block</th></tr><tr><td>i64</td><td>list[str]</td><td>list[i64]</td></tr></thead><tbody><tr><td>1</td><td>[&quot;13 August 2014 &quot;, &quot;Americas/United States &quot;, … &quot;shreyas.patil@credit-suisse.com &quot;]</td><td>[3, 3, … 13]</td></tr><tr><td>2</td><td>[&quot;Companies Mentioned (Price as of 12-Aug-2014) &quot;, &quot;BMW (BMWG.DE, €87.2) &quot;, … &quot;Volkswagen (VOWG_p.DE, €167.7)&quot;]</td><td>[4, 4, … 4]</td></tr></tbody></table></div>"
      ],
      "text/plain": [
       "shape: (2, 3)\n",
       "┌──────┬─────────────────────────────────┬──────────────┐\n",
       "│ page ┆ sentence                        ┆ block        │\n",
       "│ ---  ┆ ---                             ┆ ---          │\n",
       "│ i64  ┆ list[str]                       ┆ list[i64]    │\n",
       "╞══════╪═════════════════════════════════╪══════════════╡\n",
       "│ 1    ┆ [\"13 August 2014 \", \"Americas/… ┆ [3, 3, … 13] │\n",
       "│ 2    ┆ [\"Companies Mentioned (Price a… ┆ [4, 4, … 4]  │\n",
       "└──────┴─────────────────────────────────┴──────────────┘"
      ]
     },
     "execution_count": 9,
     "metadata": {},
     "output_type": "execute_result"
    }
   ],
   "source": [
    "## merge the sentences \n",
    "filtered_df = remove_noise(df, noise)\n",
    "filtered_df = filtered_df.group_by(\"page\").agg(pl.col(\"sentence\"), pl.col(\"block\"))\n",
    "filtered_df.head()"
   ]
  },
  {
   "cell_type": "code",
   "execution_count": 10,
   "metadata": {},
   "outputs": [
    {
     "data": {
      "text/html": [
       "<div><style>\n",
       ".dataframe > thead > tr,\n",
       ".dataframe > tbody > tr {\n",
       "  text-align: right;\n",
       "  white-space: pre-wrap;\n",
       "}\n",
       "</style>\n",
       "<small>shape: (2, 4)</small><table border=\"1\" class=\"dataframe\"><thead><tr><th>page</th><th>sentence</th><th>block</th><th>sentences_per_block</th></tr><tr><td>i64</td><td>list[str]</td><td>list[i64]</td><td>str</td></tr></thead><tbody><tr><td>1</td><td>[&quot;13 August 2014 &quot;, &quot;Americas/United States &quot;, … &quot;shreyas.patil@credit-suisse.com &quot;]</td><td>[3, 3, … 13]</td><td>&quot;13 August 2014 \n",
       "Americas/Unite…</td></tr><tr><td>2</td><td>[&quot;Companies Mentioned (Price as of 12-Aug-2014) &quot;, &quot;BMW (BMWG.DE, €87.2) &quot;, … &quot;Volkswagen (VOWG_p.DE, €167.7)&quot;]</td><td>[4, 4, … 4]</td><td>&quot;Companies Mentioned (Price as …</td></tr></tbody></table></div>"
      ],
      "text/plain": [
       "shape: (2, 4)\n",
       "┌──────┬─────────────────────────────────┬──────────────┬─────────────────────────────────┐\n",
       "│ page ┆ sentence                        ┆ block        ┆ sentences_per_block             │\n",
       "│ ---  ┆ ---                             ┆ ---          ┆ ---                             │\n",
       "│ i64  ┆ list[str]                       ┆ list[i64]    ┆ str                             │\n",
       "╞══════╪═════════════════════════════════╪══════════════╪═════════════════════════════════╡\n",
       "│ 1    ┆ [\"13 August 2014 \", \"Americas/… ┆ [3, 3, … 13] ┆ 13 August 2014                  │\n",
       "│      ┆                                 ┆              ┆ Americas/Unite…                 │\n",
       "│ 2    ┆ [\"Companies Mentioned (Price a… ┆ [4, 4, … 4]  ┆ Companies Mentioned (Price as … │\n",
       "└──────┴─────────────────────────────────┴──────────────┴─────────────────────────────────┘"
      ]
     },
     "execution_count": 10,
     "metadata": {},
     "output_type": "execute_result"
    }
   ],
   "source": [
    "# combine sentences with \\n for each block \n",
    "filtered_df = filtered_df.with_columns(\n",
    "    pl.col(\"sentence\").list.join(\"\\n\").over(\"block\").alias(\"sentences_per_block\")\n",
    ")\n",
    "filtered_df.head()"
   ]
  },
  {
   "cell_type": "code",
   "execution_count": 13,
   "metadata": {},
   "outputs": [
    {
     "name": "stdout",
     "output_type": "stream",
     "text": [
      "Content:\n",
      "-------\n",
      "13 August 2014 \n",
      "Americas/United States \n",
      "Equity Research \n",
      "Auto Parts & Equipment / Automobile Manufacturers  \n",
      "Tesla Motors Inc. (TSLA) \n",
      " INITIATION  \n",
      " Not A Fair Fight \n",
      "We are initiating coverage of Tesla Motors (TSLA) with an Outperform rating \n",
      "and a $325 target price.  For a complete copy of our initiation report, please \n",
      "click here. \n",
      "To download a copy of our broader Autos & Auto Parts sector initiation report, \n",
      "please click here \n",
      "■ EV’s are inherently better than Internal Combustion (ICE) vehicles. We \n",
      "believe that there are many inherent advantages to Electric Vehicles, and \n",
      "the success of the Model S (Tesla’s first fully-developed vehicle) goes a long \n",
      "way to proving that. The company has many competitive advantages in this \n",
      "technology that will be difficult for the traditional automakers to close, \n",
      "particularly as the industry’s focus must remain on hitting very challenging \n",
      "fuel economy regulations. If Tesla can get to cost-parity with ICE and still \n",
      "offer  $1,400-$2,500 per year fuel savings to the consumer, it won’t be a fair \n",
      "fight. \n",
      "■ Gigafactory will be a major step towards cost-parity. This report contains \n",
      "a detailed analysis of how Tesla’s battery costs are likely to change over \n",
      "time. We believe Model S / X base battery costs can come down to $10k-\n",
      "$11k range (from $16.5k today) and the upcoming Model 3 battery could be \n",
      "in the $7,500 range.  At that point, Tesla is in range of cost parity to ICE. \n",
      "■ Returns look outstanding. An analysis of Model S / X development costs \n",
      "and the Gigafactory investment points to ROIC’s in the 30%-45% range. \n",
      "Continued on next page \n",
      "On 08/12/14 the S&P 500 INDEX closed at 1933.75 \n",
      "Quarterly EPS \n",
      "Q1 \n",
      "Q2 \n",
      "Q3 \n",
      "Q4 \n",
      "2013A \n",
      "0.12 \n",
      "0.20 \n",
      "0.12 \n",
      "0.33 \n",
      "2014E \n",
      "0.12 \n",
      "0.11 \n",
      "0.03 \n",
      "0.69 \n",
      "2015E \n",
      "0.13 \n",
      "-0.03 \n",
      "0.84 \n",
      "1.64 \n",
      "Financial and valuation metrics \n",
      "Year \n",
      "12/13A \n",
      "12/14E \n",
      "12/15E \n",
      "12/16E \n",
      "EPS (CS adj.) (US$) \n",
      "0.78 \n",
      "0.96 \n",
      "2.60 \n",
      "7.00 \n",
      "Prev. EPS (US$) \n",
      "— \n",
      "— \n",
      "— \n",
      "— \n",
      "P/E (x) \n",
      "332.8 \n",
      "270.3 \n",
      "100.1 \n",
      "37.2 \n",
      "P/E rel. (%) \n",
      "NM \n",
      "NM \n",
      "664.6 \n",
      "274.0 \n",
      "Revenue (US$ m) \n",
      "2,477.7 \n",
      "3,767.9 \n",
      "6,720.4 \n",
      "10,250.9 \n",
      "EBITDA (US$ m) \n",
      "206.3 \n",
      "392.5 \n",
      "950.2 \n",
      "1,891.4 \n",
      "OCFPS (US$) \n",
      "1.95 \n",
      "3.02 \n",
      "6.05 \n",
      "11.22 \n",
      "P/OCF (x) \n",
      "77.2 \n",
      "86.0 \n",
      "43.0 \n",
      "23.2 \n",
      "EV/EBITDA (current) \n",
      "155.6 \n",
      "81.8 \n",
      "33.8 \n",
      "17.0 \n",
      "Net debt (US$ m) \n",
      "-247 \n",
      "-46 \n",
      "587 \n",
      "790 \n",
      "ROIC (%) \n",
      "23.14 \n",
      "14.19 \n",
      "18.98 \n",
      "32.04 \n",
      "Number of shares (m) \n",
      "124.63 \n",
      " IC (current, US$ m) \n",
      "420.38 \n",
      "BV/share (Next Qtr., US$) \n",
      "7.2 \n",
      " EV/IC (x) \n",
      "41.2 \n",
      "Net debt (Next Qtr., US$ m) \n",
      "-258.6 \n",
      " Dividend (current, US$) \n",
      "— \n",
      "Net debt/tot eq (Next Qtr., %) \n",
      "-24.9 \n",
      " Dividend yield (%) \n",
      "— \n",
      "Source: Company data, Credit Suisse estimates. \n",
      "Rating \n",
      "OUTPERFORM* [V] \n",
      "Price (12 Aug 14, US$) \n",
      "259.96 \n",
      "Target price (US$) \n",
      "324.93¹ \n",
      "52-week price range \n",
      "259.96 - 120.50 \n",
      "Market cap. (US$ m) \n",
      "32,398.77 \n",
      "Enterprise value (US$ m) \n",
      "32,352.65 \n",
      "Research Analysts \n",
      "Daniel Galves \n",
      "212 325 9274 \n",
      "daniel.v.galves@credit-suisse.com \n",
      "Shreyas Patil \n",
      "212 538 5281 \n",
      "shreyas.patil@credit-suisse.com \n",
      " \n",
      "Companies Mentioned (Price as of 12-Aug-2014) \n",
      "BMW (BMWG.DE, €87.2) \n",
      "Daimler (DAIGn.DE, €59.85) \n",
      "Ford Motor Company (F.N, $17.21) \n",
      "General Motors Corp. (GM.N, $33.7) \n",
      "Tesla Motors Inc. (TSLA.OQ, $259.96, OUTPERFORM[V], TP $324.93) \n",
      "Toyota Motor (7203.T, ¥5,990) \n",
      "Volkswagen (VOWG_p.DE, €167.7)\n",
      " \n",
      "\n",
      "-----------\n"
     ]
    }
   ],
   "source": [
    "content = \"\"\n",
    "for block in filtered_df['sentences_per_block']:\n",
    "    content += block\n",
    "    content += \"\\n \\n\"\n",
    "print(f\"Content:\\n-------\\n{content}\\n-----------\") "
   ]
  },
  {
   "cell_type": "code",
   "execution_count": null,
   "metadata": {},
   "outputs": [],
   "source": []
  }
 ],
 "metadata": {
  "kernelspec": {
   "display_name": ".venv",
   "language": "python",
   "name": "python3"
  },
  "language_info": {
   "codemirror_mode": {
    "name": "ipython",
    "version": 3
   },
   "file_extension": ".py",
   "mimetype": "text/x-python",
   "name": "python",
   "nbconvert_exporter": "python",
   "pygments_lexer": "ipython3",
   "version": "3.10.14"
  }
 },
 "nbformat": 4,
 "nbformat_minor": 2
}
